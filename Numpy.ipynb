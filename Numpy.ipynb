{
  "nbformat": 4,
  "nbformat_minor": 0,
  "metadata": {
    "colab": {
      "name": "Numpy.ipynb",
      "provenance": [],
      "authorship_tag": "ABX9TyP/caBqsoi1Ioz6m2Yy1x95",
      "include_colab_link": true
    },
    "kernelspec": {
      "name": "python3",
      "display_name": "Python 3"
    }
  },
  "cells": [
    {
      "cell_type": "markdown",
      "metadata": {
        "id": "view-in-github",
        "colab_type": "text"
      },
      "source": [
        "<a href=\"https://colab.research.google.com/github/maggieliuzzi/numpy_matplotlib_pandas_scipy/blob/master/Numpy.ipynb\" target=\"_parent\"><img src=\"https://colab.research.google.com/assets/colab-badge.svg\" alt=\"Open In Colab\"/></a>"
      ]
    },
    {
      "cell_type": "code",
      "metadata": {
        "id": "tasG9KZNOBWL",
        "colab_type": "code",
        "colab": {}
      },
      "source": [
        "import numpy as np"
      ],
      "execution_count": 0,
      "outputs": []
    },
    {
      "cell_type": "markdown",
      "metadata": {
        "id": "H6a0xGgBjJkp",
        "colab_type": "text"
      },
      "source": [
        "**Numpy Arrays**"
      ]
    },
    {
      "cell_type": "code",
      "metadata": {
        "id": "j6i2i8sCjZSs",
        "colab_type": "code",
        "colab": {
          "base_uri": "https://localhost:8080/",
          "height": 51
        },
        "outputId": "34ac89b5-c0a5-40f9-8960-0365670e6874"
      },
      "source": [
        "np.random.randn(10)  # type: numpy.ndarray"
      ],
      "execution_count": 53,
      "outputs": [
        {
          "output_type": "execute_result",
          "data": {
            "text/plain": [
              "array([-0.77368352,  0.70659765,  0.31812008,  0.01628257,  1.77377952,\n",
              "        0.16904545,  0.01168565, -1.47649196, -0.12047315, -0.28133481])"
            ]
          },
          "metadata": {
            "tags": []
          },
          "execution_count": 53
        }
      ]
    },
    {
      "cell_type": "code",
      "metadata": {
        "id": "q5S7_wCBjH0t",
        "colab_type": "code",
        "colab": {}
      },
      "source": [
        "L = [1,2,3]\n",
        "A = np.array([1,2,3])"
      ],
      "execution_count": 0,
      "outputs": []
    },
    {
      "cell_type": "markdown",
      "metadata": {
        "id": "Empl1y1ajNtY",
        "colab_type": "text"
      },
      "source": [
        "**Vector Operations**"
      ]
    },
    {
      "cell_type": "code",
      "metadata": {
        "id": "UxaUCBi6R1vm",
        "colab_type": "code",
        "colab": {
          "base_uri": "https://localhost:8080/",
          "height": 34
        },
        "outputId": "1e246c53-053c-42b3-bd1b-b4ef86537ef1"
      },
      "source": [
        "L + [4]"
      ],
      "execution_count": 2,
      "outputs": [
        {
          "output_type": "execute_result",
          "data": {
            "text/plain": [
              "[1, 2, 3, 4]"
            ]
          },
          "metadata": {
            "tags": []
          },
          "execution_count": 2
        }
      ]
    },
    {
      "cell_type": "code",
      "metadata": {
        "id": "Oo5FDHnkR38Q",
        "colab_type": "code",
        "colab": {
          "base_uri": "https://localhost:8080/",
          "height": 34
        },
        "outputId": "53f1e0cd-661f-49e0-bf95-af048abeeb94"
      },
      "source": [
        "A + [4]  # same as doing:  A + np.array(4) OR A + np.array([4])"
      ],
      "execution_count": 7,
      "outputs": [
        {
          "output_type": "execute_result",
          "data": {
            "text/plain": [
              "array([5, 6, 7])"
            ]
          },
          "metadata": {
            "tags": []
          },
          "execution_count": 7
        }
      ]
    },
    {
      "cell_type": "code",
      "metadata": {
        "id": "-4XnFyUuSSiv",
        "colab_type": "code",
        "colab": {
          "base_uri": "https://localhost:8080/",
          "height": 34
        },
        "outputId": "7e67b9f5-b4a2-490c-b16f-ffbffb42c061"
      },
      "source": [
        "A + [4,5,6]  # A + np.array([4,5,6])"
      ],
      "execution_count": 10,
      "outputs": [
        {
          "output_type": "execute_result",
          "data": {
            "text/plain": [
              "array([5, 7, 9])"
            ]
          },
          "metadata": {
            "tags": []
          },
          "execution_count": 10
        }
      ]
    },
    {
      "cell_type": "code",
      "metadata": {
        "id": "MrRZyluOSs3D",
        "colab_type": "code",
        "outputId": "88e9e158-88f9-44c4-d850-a586de0def65",
        "colab": {
          "base_uri": "https://localhost:8080/",
          "height": 34
        }
      },
      "source": [
        "2 * A  # whereas: 2 * L: [1, 2, 3, 1, 2, 3]\n",
        "2.5 * A"
      ],
      "execution_count": 0,
      "outputs": [
        {
          "output_type": "execute_result",
          "data": {
            "text/plain": [
              "array([2.5, 5. , 7.5])"
            ]
          },
          "metadata": {
            "tags": []
          },
          "execution_count": 18
        }
      ]
    },
    {
      "cell_type": "code",
      "metadata": {
        "id": "A-gYCG2xUTD3",
        "colab_type": "code",
        "colab": {
          "base_uri": "https://localhost:8080/",
          "height": 34
        },
        "outputId": "52c38923-f134-4148-cbb7-235b93e00111"
      },
      "source": [
        "A ** 2\n",
        "np.sqrt(A)"
      ],
      "execution_count": 19,
      "outputs": [
        {
          "output_type": "execute_result",
          "data": {
            "text/plain": [
              "array([1, 4, 9])"
            ]
          },
          "metadata": {
            "tags": []
          },
          "execution_count": 19
        }
      ]
    },
    {
      "cell_type": "markdown",
      "metadata": {
        "id": "5keXR9S-lOB6",
        "colab_type": "text"
      },
      "source": [
        "**Functions** (element-wise)"
      ]
    },
    {
      "cell_type": "code",
      "metadata": {
        "id": "fxcU6rgjUe32",
        "colab_type": "code",
        "colab": {
          "base_uri": "https://localhost:8080/",
          "height": 34
        },
        "outputId": "20c3d8ed-1504-4489-8396-140284d55c79"
      },
      "source": [
        "np.log(A)\n",
        "np.exp(A)"
      ],
      "execution_count": 21,
      "outputs": [
        {
          "output_type": "execute_result",
          "data": {
            "text/plain": [
              "array([0.        , 0.69314718, 1.09861229])"
            ]
          },
          "metadata": {
            "tags": []
          },
          "execution_count": 21
        }
      ]
    },
    {
      "cell_type": "code",
      "metadata": {
        "id": "0uQo_u0OUkgq",
        "colab_type": "code",
        "colab": {
          "base_uri": "https://localhost:8080/",
          "height": 34
        },
        "outputId": "f786fe5d-70df-44ff-c5a5-38f253f1ac36"
      },
      "source": [
        "np.tanh(A)  # hyperbolic tangent"
      ],
      "execution_count": 23,
      "outputs": [
        {
          "output_type": "execute_result",
          "data": {
            "text/plain": [
              "array([0.76159416, 0.96402758, 0.99505475])"
            ]
          },
          "metadata": {
            "tags": []
          },
          "execution_count": 23
        }
      ]
    },
    {
      "cell_type": "code",
      "metadata": {
        "id": "ZDqlWxcRU0GY",
        "colab_type": "code",
        "colab": {
          "base_uri": "https://localhost:8080/",
          "height": 34
        },
        "outputId": "83381206-5c26-493b-b5fc-fab76b9253e7"
      },
      "source": [
        "np.sin(A)\n",
        "np.cos(A)"
      ],
      "execution_count": 25,
      "outputs": [
        {
          "output_type": "execute_result",
          "data": {
            "text/plain": [
              "array([ 0.54030231, -0.41614684, -0.9899925 ])"
            ]
          },
          "metadata": {
            "tags": []
          },
          "execution_count": 25
        }
      ]
    },
    {
      "cell_type": "markdown",
      "metadata": {
        "id": "Rjogc5KtjUwc",
        "colab_type": "text"
      },
      "source": [
        "**Dot Products**"
      ]
    },
    {
      "cell_type": "code",
      "metadata": {
        "id": "xY7vswy7U7yv",
        "colab_type": "code",
        "colab": {
          "base_uri": "https://localhost:8080/",
          "height": 34
        },
        "outputId": "77e426d8-57d6-4da3-ca36-f4aaeaca09ac"
      },
      "source": [
        "a = np.array([1, 2])\n",
        "b = np.array([3, 4])\n",
        "np.dot(a, b)  # np.sum(a*b)  # (a*b).sum\n",
        "a.dot(b)  # a must be numpy array\n",
        "a @ np.array(b)  # a and b must be np arrays  \n",
        "\n",
        "# aT b = ||a|| ||b|| cos(theta a,b)\n",
        "# ||a||: amag\n",
        "mag_a = np.linalg.norm(a)  # np.sqrt((a**2).sum())\n",
        "mag_b = np.linalg.norm(b)\n",
        "cosangle = a.dot(b) / (mag_a * mag_b)  # aT b // ||a|| ||b||  # cosine of angle\n",
        "angle = np.arccos(cosangle)  # arc cosine\n",
        "angle"
      ],
      "execution_count": 45,
      "outputs": [
        {
          "output_type": "execute_result",
          "data": {
            "text/plain": [
              "0.17985349979247847"
            ]
          },
          "metadata": {
            "tags": []
          },
          "execution_count": 45
        }
      ]
    },
    {
      "cell_type": "markdown",
      "metadata": {
        "id": "SBShwnn2jDEu",
        "colab_type": "text"
      },
      "source": [
        "**Matrices**"
      ]
    },
    {
      "cell_type": "code",
      "metadata": {
        "id": "UOj3Et7Jinpk",
        "colab_type": "code",
        "colab": {
          "base_uri": "https://localhost:8080/",
          "height": 51
        },
        "outputId": "dcad47c3-ea37-48d6-b5f5-ae9a880714a3"
      },
      "source": [
        "M = np.array([[1,2],[3,4]])\n",
        "M"
      ],
      "execution_count": 48,
      "outputs": [
        {
          "output_type": "execute_result",
          "data": {
            "text/plain": [
              "array([[1, 2],\n",
              "       [3, 4]])"
            ]
          },
          "metadata": {
            "tags": []
          },
          "execution_count": 48
        }
      ]
    },
    {
      "cell_type": "code",
      "metadata": {
        "id": "YJjgGoHEqDOY",
        "colab_type": "code",
        "colab": {
          "base_uri": "https://localhost:8080/",
          "height": 51
        },
        "outputId": "7a8ef96c-6f0a-462f-e546-5520a71d3419"
      },
      "source": [
        "np.diag(A)  # diagonal matrix from a vector"
      ],
      "execution_count": 90,
      "outputs": [
        {
          "output_type": "execute_result",
          "data": {
            "text/plain": [
              "array([[1, 0],\n",
              "       [0, 2]])"
            ]
          },
          "metadata": {
            "tags": []
          },
          "execution_count": 90
        }
      ]
    },
    {
      "cell_type": "code",
      "metadata": {
        "id": "Y1l4dIIpjuQJ",
        "colab_type": "code",
        "colab": {
          "base_uri": "https://localhost:8080/",
          "height": 34
        },
        "outputId": "f0932096-3b4a-4adc-bf3f-9d2aa8af7582"
      },
      "source": [
        "M[1]  # row 1"
      ],
      "execution_count": 58,
      "outputs": [
        {
          "output_type": "execute_result",
          "data": {
            "text/plain": [
              "array([3, 4])"
            ]
          },
          "metadata": {
            "tags": []
          },
          "execution_count": 58
        }
      ]
    },
    {
      "cell_type": "code",
      "metadata": {
        "id": "ah6rgYNIi3hE",
        "colab_type": "code",
        "colab": {
          "base_uri": "https://localhost:8080/",
          "height": 34
        },
        "outputId": "1b3aebce-e62b-4384-b3eb-772cede46f90"
      },
      "source": [
        "M[0,1]  # M[0][1]  # Element in row 0 column 1"
      ],
      "execution_count": 59,
      "outputs": [
        {
          "output_type": "execute_result",
          "data": {
            "text/plain": [
              "2"
            ]
          },
          "metadata": {
            "tags": []
          },
          "execution_count": 59
        }
      ]
    },
    {
      "cell_type": "code",
      "metadata": {
        "id": "__fpbDFJjCWa",
        "colab_type": "code",
        "colab": {
          "base_uri": "https://localhost:8080/",
          "height": 34
        },
        "outputId": "bd5588b9-8392-4425-a6c8-4f5f2f79bcc9"
      },
      "source": [
        "M[:,0]  # column 0\n",
        "M[:,1]  # column 1\n",
        "# : selects everything in a dimension"
      ],
      "execution_count": 60,
      "outputs": [
        {
          "output_type": "execute_result",
          "data": {
            "text/plain": [
              "array([2, 4])"
            ]
          },
          "metadata": {
            "tags": []
          },
          "execution_count": 60
        }
      ]
    },
    {
      "cell_type": "code",
      "metadata": {
        "id": "jvTgkrKxpn7v",
        "colab_type": "code",
        "colab": {
          "base_uri": "https://localhost:8080/",
          "height": 34
        },
        "outputId": "17530ded-0267-457b-f8d0-0347b826aba1"
      },
      "source": [
        "np.diag(M)"
      ],
      "execution_count": 81,
      "outputs": [
        {
          "output_type": "execute_result",
          "data": {
            "text/plain": [
              "array([1, 4])"
            ]
          },
          "metadata": {
            "tags": []
          },
          "execution_count": 81
        }
      ]
    },
    {
      "cell_type": "markdown",
      "metadata": {
        "id": "kXlTvJq1lRj0",
        "colab_type": "text"
      },
      "source": [
        "**Functions** (element-wise)"
      ]
    },
    {
      "cell_type": "code",
      "metadata": {
        "id": "BjJwl_bklX33",
        "colab_type": "code",
        "colab": {
          "base_uri": "https://localhost:8080/",
          "height": 51
        },
        "outputId": "5f0e59b3-9eb2-4bb6-b6ed-577aa8d6085b"
      },
      "source": [
        "np.exp(M)  # M can be a normal list"
      ],
      "execution_count": 62,
      "outputs": [
        {
          "output_type": "execute_result",
          "data": {
            "text/plain": [
              "array([[ 2.71828183,  7.3890561 ],\n",
              "       [20.08553692, 54.59815003]])"
            ]
          },
          "metadata": {
            "tags": []
          },
          "execution_count": 62
        }
      ]
    },
    {
      "cell_type": "markdown",
      "metadata": {
        "id": "lhaAnzjtlsXB",
        "colab_type": "text"
      },
      "source": [
        "**Matrix Operations**"
      ]
    },
    {
      "cell_type": "code",
      "metadata": {
        "id": "77Qvb9N7lDf1",
        "colab_type": "code",
        "colab": {
          "base_uri": "https://localhost:8080/",
          "height": 51
        },
        "outputId": "23dec91a-cefd-43c1-8626-137dc6d249e8"
      },
      "source": [
        "M.T  # transpose"
      ],
      "execution_count": 61,
      "outputs": [
        {
          "output_type": "execute_result",
          "data": {
            "text/plain": [
              "array([[1, 3],\n",
              "       [2, 4]])"
            ]
          },
          "metadata": {
            "tags": []
          },
          "execution_count": 61
        }
      ]
    },
    {
      "cell_type": "code",
      "metadata": {
        "id": "lWy19I60ltzu",
        "colab_type": "code",
        "colab": {
          "base_uri": "https://localhost:8080/",
          "height": 51
        },
        "outputId": "ada157b1-8da8-49a4-a5b8-462dcea5333a"
      },
      "source": [
        "N = np.array([[1,2,3],[4,5,6]])  # np.diag(N) is [1,5]\n",
        "N"
      ],
      "execution_count": 86,
      "outputs": [
        {
          "output_type": "execute_result",
          "data": {
            "text/plain": [
              "array([[1, 2, 3],\n",
              "       [4, 5, 6]])"
            ]
          },
          "metadata": {
            "tags": []
          },
          "execution_count": 86
        }
      ]
    },
    {
      "cell_type": "code",
      "metadata": {
        "id": "1YxgU4Vdl7v-",
        "colab_type": "code",
        "colab": {
          "base_uri": "https://localhost:8080/",
          "height": 51
        },
        "outputId": "084cdd5e-3bff-43e4-b5cb-04d6d565004e"
      },
      "source": [
        "M.dot(N)"
      ],
      "execution_count": 70,
      "outputs": [
        {
          "output_type": "execute_result",
          "data": {
            "text/plain": [
              "array([[ 9, 12, 15],\n",
              "       [19, 26, 33]])"
            ]
          },
          "metadata": {
            "tags": []
          },
          "execution_count": 70
        }
      ]
    },
    {
      "cell_type": "code",
      "metadata": {
        "id": "Eos2YWXDoAg0",
        "colab_type": "code",
        "colab": {
          "base_uri": "https://localhost:8080/",
          "height": 34
        },
        "outputId": "ee3471b1-e104-4b57-eb6a-5f0f43f86040"
      },
      "source": [
        "np.linalg.det(M)  # not exactly accurate in a computer"
      ],
      "execution_count": 79,
      "outputs": [
        {
          "output_type": "execute_result",
          "data": {
            "text/plain": [
              "-2.0000000000000004"
            ]
          },
          "metadata": {
            "tags": []
          },
          "execution_count": 79
        }
      ]
    },
    {
      "cell_type": "code",
      "metadata": {
        "id": "9WJNr1uQoUw3",
        "colab_type": "code",
        "colab": {
          "base_uri": "https://localhost:8080/",
          "height": 51
        },
        "outputId": "6ebe3191-a1d5-4e4c-9f87-13c13b40be68"
      },
      "source": [
        "inv_M = np.linalg.inv(M)\n",
        "inv_M"
      ],
      "execution_count": 76,
      "outputs": [
        {
          "output_type": "execute_result",
          "data": {
            "text/plain": [
              "array([[-2. ,  1. ],\n",
              "       [ 1.5, -0.5]])"
            ]
          },
          "metadata": {
            "tags": []
          },
          "execution_count": 76
        }
      ]
    },
    {
      "cell_type": "code",
      "metadata": {
        "id": "lLLnGUNboaaN",
        "colab_type": "code",
        "colab": {
          "base_uri": "https://localhost:8080/",
          "height": 51
        },
        "outputId": "2132339d-cbba-4062-eca9-b21c9b6962de"
      },
      "source": [
        "inv_M.dot(M)  # inaccurate operation in a computer"
      ],
      "execution_count": 78,
      "outputs": [
        {
          "output_type": "execute_result",
          "data": {
            "text/plain": [
              "array([[1.00000000e+00, 0.00000000e+00],\n",
              "       [1.11022302e-16, 1.00000000e+00]])"
            ]
          },
          "metadata": {
            "tags": []
          },
          "execution_count": 78
        }
      ]
    },
    {
      "cell_type": "code",
      "metadata": {
        "id": "u-5A_86JpI6R",
        "colab_type": "code",
        "colab": {
          "base_uri": "https://localhost:8080/",
          "height": 34
        },
        "outputId": "6be2f174-b5e1-466b-c9db-cf7597c12de2"
      },
      "source": [
        "np.trace(M)"
      ],
      "execution_count": 80,
      "outputs": [
        {
          "output_type": "execute_result",
          "data": {
            "text/plain": [
              "5"
            ]
          },
          "metadata": {
            "tags": []
          },
          "execution_count": 80
        }
      ]
    },
    {
      "cell_type": "code",
      "metadata": {
        "id": "PS2l3FDbqQGO",
        "colab_type": "code",
        "colab": {}
      },
      "source": [
        "lam, V = np.linalg.eig(M)  # Eigenvalues and Eigenvectors  # Eigenvectors are stored as column vectors inside V"
      ],
      "execution_count": 0,
      "outputs": []
    },
    {
      "cell_type": "code",
      "metadata": {
        "id": "KPLPRDc7rZ7w",
        "colab_type": "code",
        "colab": {
          "base_uri": "https://localhost:8080/",
          "height": 34
        },
        "outputId": "98acee94-fbbd-4aed-d721-74ba60510705"
      },
      "source": [
        "V[:,0] * lam[0] == M @ V[:,0]  # eigenvalue * eigenvector == A * eigenvector  # incorrect due to numerical precision errors\n",
        "V[:,0] * lam[0], M @ V[:,0]  # (array([ 0.30697009, -0.21062466]), array([ 0.30697009, -0.21062466]))\n",
        "np.allclose(V[:,0] * lam[0], M @ V[:,0])\n",
        "np.allclose(V @ np.diag(lam), M @ V)  # checking all eigenvectors simultaneously\n",
        "# if matrix is symmetric (eg.covariance) (or complex Hermitian), use np.linalg.eigh \n",
        "# (Hermitian: complex analog of matrix transpose: it does a transpose and takes the complex conjugates of the elements"
      ],
      "execution_count": 109,
      "outputs": [
        {
          "output_type": "execute_result",
          "data": {
            "text/plain": [
              "True"
            ]
          },
          "metadata": {
            "tags": []
          },
          "execution_count": 109
        }
      ]
    }
  ]
}