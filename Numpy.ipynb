{
  "nbformat": 4,
  "nbformat_minor": 0,
  "metadata": {
    "colab": {
      "name": "Numpy.ipynb",
      "provenance": [],
      "authorship_tag": "ABX9TyPwv7uIc1TZwu9BHh1e8h49",
      "include_colab_link": true
    },
    "kernelspec": {
      "name": "python3",
      "display_name": "Python 3"
    }
  },
  "cells": [
    {
      "cell_type": "markdown",
      "metadata": {
        "id": "view-in-github",
        "colab_type": "text"
      },
      "source": [
        "<a href=\"https://colab.research.google.com/github/maggieliuzzi/numpy_matplotlib_pandas_scipy/blob/master/Numpy.ipynb\" target=\"_parent\"><img src=\"https://colab.research.google.com/assets/colab-badge.svg\" alt=\"Open In Colab\"/></a>"
      ]
    },
    {
      "cell_type": "code",
      "metadata": {
        "id": "tasG9KZNOBWL",
        "colab_type": "code",
        "colab": {}
      },
      "source": [
        "import numpy as np"
      ],
      "execution_count": 0,
      "outputs": []
    },
    {
      "cell_type": "markdown",
      "metadata": {
        "id": "H6a0xGgBjJkp",
        "colab_type": "text"
      },
      "source": [
        "**Numpy Arrays**"
      ]
    },
    {
      "cell_type": "code",
      "metadata": {
        "id": "j6i2i8sCjZSs",
        "colab_type": "code",
        "colab": {
          "base_uri": "https://localhost:8080/",
          "height": 51
        },
        "outputId": "34ac89b5-c0a5-40f9-8960-0365670e6874"
      },
      "source": [
        "np.random.randn(10)  # type: numpy.ndarray"
      ],
      "execution_count": 53,
      "outputs": [
        {
          "output_type": "execute_result",
          "data": {
            "text/plain": [
              "array([-0.77368352,  0.70659765,  0.31812008,  0.01628257,  1.77377952,\n",
              "        0.16904545,  0.01168565, -1.47649196, -0.12047315, -0.28133481])"
            ]
          },
          "metadata": {
            "tags": []
          },
          "execution_count": 53
        }
      ]
    },
    {
      "cell_type": "code",
      "metadata": {
        "id": "q5S7_wCBjH0t",
        "colab_type": "code",
        "colab": {}
      },
      "source": [
        "L = [1,2,3]\n",
        "A = np.array([1,2,3])"
      ],
      "execution_count": 0,
      "outputs": []
    },
    {
      "cell_type": "markdown",
      "metadata": {
        "id": "Empl1y1ajNtY",
        "colab_type": "text"
      },
      "source": [
        "**Vector Operations**"
      ]
    },
    {
      "cell_type": "code",
      "metadata": {
        "id": "UxaUCBi6R1vm",
        "colab_type": "code",
        "colab": {
          "base_uri": "https://localhost:8080/",
          "height": 34
        },
        "outputId": "1e246c53-053c-42b3-bd1b-b4ef86537ef1"
      },
      "source": [
        "L + [4]"
      ],
      "execution_count": 2,
      "outputs": [
        {
          "output_type": "execute_result",
          "data": {
            "text/plain": [
              "[1, 2, 3, 4]"
            ]
          },
          "metadata": {
            "tags": []
          },
          "execution_count": 2
        }
      ]
    },
    {
      "cell_type": "code",
      "metadata": {
        "id": "Oo5FDHnkR38Q",
        "colab_type": "code",
        "colab": {
          "base_uri": "https://localhost:8080/",
          "height": 34
        },
        "outputId": "53f1e0cd-661f-49e0-bf95-af048abeeb94"
      },
      "source": [
        "A + [4]  # same as doing:  A + np.array(4) OR A + np.array([4])"
      ],
      "execution_count": 7,
      "outputs": [
        {
          "output_type": "execute_result",
          "data": {
            "text/plain": [
              "array([5, 6, 7])"
            ]
          },
          "metadata": {
            "tags": []
          },
          "execution_count": 7
        }
      ]
    },
    {
      "cell_type": "code",
      "metadata": {
        "id": "-4XnFyUuSSiv",
        "colab_type": "code",
        "colab": {
          "base_uri": "https://localhost:8080/",
          "height": 34
        },
        "outputId": "7e67b9f5-b4a2-490c-b16f-ffbffb42c061"
      },
      "source": [
        "A + [4,5,6]  # A + np.array([4,5,6])"
      ],
      "execution_count": 10,
      "outputs": [
        {
          "output_type": "execute_result",
          "data": {
            "text/plain": [
              "array([5, 7, 9])"
            ]
          },
          "metadata": {
            "tags": []
          },
          "execution_count": 10
        }
      ]
    },
    {
      "cell_type": "code",
      "metadata": {
        "id": "MrRZyluOSs3D",
        "colab_type": "code",
        "outputId": "88e9e158-88f9-44c4-d850-a586de0def65",
        "colab": {
          "base_uri": "https://localhost:8080/",
          "height": 34
        }
      },
      "source": [
        "2 * A  # whereas: 2 * L: [1, 2, 3, 1, 2, 3]\n",
        "2.5 * A"
      ],
      "execution_count": 0,
      "outputs": [
        {
          "output_type": "execute_result",
          "data": {
            "text/plain": [
              "array([2.5, 5. , 7.5])"
            ]
          },
          "metadata": {
            "tags": []
          },
          "execution_count": 18
        }
      ]
    },
    {
      "cell_type": "code",
      "metadata": {
        "id": "A-gYCG2xUTD3",
        "colab_type": "code",
        "colab": {
          "base_uri": "https://localhost:8080/",
          "height": 34
        },
        "outputId": "52c38923-f134-4148-cbb7-235b93e00111"
      },
      "source": [
        "A ** 2\n",
        "np.sqrt(A)"
      ],
      "execution_count": 19,
      "outputs": [
        {
          "output_type": "execute_result",
          "data": {
            "text/plain": [
              "array([1, 4, 9])"
            ]
          },
          "metadata": {
            "tags": []
          },
          "execution_count": 19
        }
      ]
    },
    {
      "cell_type": "markdown",
      "metadata": {
        "id": "5keXR9S-lOB6",
        "colab_type": "text"
      },
      "source": [
        "**Functions** (element-wise)"
      ]
    },
    {
      "cell_type": "code",
      "metadata": {
        "id": "fxcU6rgjUe32",
        "colab_type": "code",
        "colab": {
          "base_uri": "https://localhost:8080/",
          "height": 34
        },
        "outputId": "20c3d8ed-1504-4489-8396-140284d55c79"
      },
      "source": [
        "np.log(A)\n",
        "np.exp(A)"
      ],
      "execution_count": 21,
      "outputs": [
        {
          "output_type": "execute_result",
          "data": {
            "text/plain": [
              "array([0.        , 0.69314718, 1.09861229])"
            ]
          },
          "metadata": {
            "tags": []
          },
          "execution_count": 21
        }
      ]
    },
    {
      "cell_type": "code",
      "metadata": {
        "id": "0uQo_u0OUkgq",
        "colab_type": "code",
        "colab": {
          "base_uri": "https://localhost:8080/",
          "height": 34
        },
        "outputId": "f786fe5d-70df-44ff-c5a5-38f253f1ac36"
      },
      "source": [
        "np.tanh(A)  # hyperbolic tangent"
      ],
      "execution_count": 23,
      "outputs": [
        {
          "output_type": "execute_result",
          "data": {
            "text/plain": [
              "array([0.76159416, 0.96402758, 0.99505475])"
            ]
          },
          "metadata": {
            "tags": []
          },
          "execution_count": 23
        }
      ]
    },
    {
      "cell_type": "code",
      "metadata": {
        "id": "ZDqlWxcRU0GY",
        "colab_type": "code",
        "colab": {
          "base_uri": "https://localhost:8080/",
          "height": 34
        },
        "outputId": "83381206-5c26-493b-b5fc-fab76b9253e7"
      },
      "source": [
        "np.sin(A)\n",
        "np.cos(A)"
      ],
      "execution_count": 25,
      "outputs": [
        {
          "output_type": "execute_result",
          "data": {
            "text/plain": [
              "array([ 0.54030231, -0.41614684, -0.9899925 ])"
            ]
          },
          "metadata": {
            "tags": []
          },
          "execution_count": 25
        }
      ]
    },
    {
      "cell_type": "markdown",
      "metadata": {
        "id": "Rjogc5KtjUwc",
        "colab_type": "text"
      },
      "source": [
        "**Dot Products**"
      ]
    },
    {
      "cell_type": "code",
      "metadata": {
        "id": "xY7vswy7U7yv",
        "colab_type": "code",
        "colab": {
          "base_uri": "https://localhost:8080/",
          "height": 34
        },
        "outputId": "77e426d8-57d6-4da3-ca36-f4aaeaca09ac"
      },
      "source": [
        "a = np.array([1, 2])\n",
        "b = np.array([3, 4])\n",
        "np.dot(a, b)  # np.sum(a*b)  # (a*b).sum\n",
        "a.dot(b)  # a must be numpy array\n",
        "a @ np.array(b)  # a and b must be np arrays  \n",
        "\n",
        "# aT b = ||a|| ||b|| cos(theta a,b)\n",
        "# ||a||: amag\n",
        "mag_a = np.linalg.norm(a)  # np.sqrt((a**2).sum())\n",
        "mag_b = np.linalg.norm(b)\n",
        "cosangle = a.dot(b) / (mag_a * mag_b)  # aT b // ||a|| ||b||  # cosine of angle\n",
        "angle = np.arccos(cosangle)  # arc cosine\n",
        "angle"
      ],
      "execution_count": 45,
      "outputs": [
        {
          "output_type": "execute_result",
          "data": {
            "text/plain": [
              "0.17985349979247847"
            ]
          },
          "metadata": {
            "tags": []
          },
          "execution_count": 45
        }
      ]
    },
    {
      "cell_type": "markdown",
      "metadata": {
        "id": "SBShwnn2jDEu",
        "colab_type": "text"
      },
      "source": [
        "**Matrices**"
      ]
    },
    {
      "cell_type": "code",
      "metadata": {
        "id": "UOj3Et7Jinpk",
        "colab_type": "code",
        "colab": {
          "base_uri": "https://localhost:8080/",
          "height": 51
        },
        "outputId": "dcad47c3-ea37-48d6-b5f5-ae9a880714a3"
      },
      "source": [
        "M = np.array([[1,2],[3,4]])\n",
        "M"
      ],
      "execution_count": 48,
      "outputs": [
        {
          "output_type": "execute_result",
          "data": {
            "text/plain": [
              "array([[1, 2],\n",
              "       [3, 4]])"
            ]
          },
          "metadata": {
            "tags": []
          },
          "execution_count": 48
        }
      ]
    },
    {
      "cell_type": "code",
      "metadata": {
        "id": "YJjgGoHEqDOY",
        "colab_type": "code",
        "colab": {
          "base_uri": "https://localhost:8080/",
          "height": 51
        },
        "outputId": "7a8ef96c-6f0a-462f-e546-5520a71d3419"
      },
      "source": [
        "np.diag(A)  # diagonal matrix from a vector"
      ],
      "execution_count": 90,
      "outputs": [
        {
          "output_type": "execute_result",
          "data": {
            "text/plain": [
              "array([[1, 0],\n",
              "       [0, 2]])"
            ]
          },
          "metadata": {
            "tags": []
          },
          "execution_count": 90
        }
      ]
    },
    {
      "cell_type": "code",
      "metadata": {
        "id": "Y1l4dIIpjuQJ",
        "colab_type": "code",
        "colab": {
          "base_uri": "https://localhost:8080/",
          "height": 34
        },
        "outputId": "f0932096-3b4a-4adc-bf3f-9d2aa8af7582"
      },
      "source": [
        "M[1]  # row 1"
      ],
      "execution_count": 58,
      "outputs": [
        {
          "output_type": "execute_result",
          "data": {
            "text/plain": [
              "array([3, 4])"
            ]
          },
          "metadata": {
            "tags": []
          },
          "execution_count": 58
        }
      ]
    },
    {
      "cell_type": "code",
      "metadata": {
        "id": "ah6rgYNIi3hE",
        "colab_type": "code",
        "colab": {
          "base_uri": "https://localhost:8080/",
          "height": 34
        },
        "outputId": "1b3aebce-e62b-4384-b3eb-772cede46f90"
      },
      "source": [
        "M[0,1]  # M[0][1]  # Element in row 0 column 1"
      ],
      "execution_count": 59,
      "outputs": [
        {
          "output_type": "execute_result",
          "data": {
            "text/plain": [
              "2"
            ]
          },
          "metadata": {
            "tags": []
          },
          "execution_count": 59
        }
      ]
    },
    {
      "cell_type": "code",
      "metadata": {
        "id": "__fpbDFJjCWa",
        "colab_type": "code",
        "colab": {
          "base_uri": "https://localhost:8080/",
          "height": 34
        },
        "outputId": "bd5588b9-8392-4425-a6c8-4f5f2f79bcc9"
      },
      "source": [
        "M[:,0]  # column 0\n",
        "M[:,1]  # column 1\n",
        "# : selects everything in a dimension"
      ],
      "execution_count": 60,
      "outputs": [
        {
          "output_type": "execute_result",
          "data": {
            "text/plain": [
              "array([2, 4])"
            ]
          },
          "metadata": {
            "tags": []
          },
          "execution_count": 60
        }
      ]
    },
    {
      "cell_type": "code",
      "metadata": {
        "id": "jvTgkrKxpn7v",
        "colab_type": "code",
        "colab": {
          "base_uri": "https://localhost:8080/",
          "height": 34
        },
        "outputId": "17530ded-0267-457b-f8d0-0347b826aba1"
      },
      "source": [
        "np.diag(M)"
      ],
      "execution_count": 81,
      "outputs": [
        {
          "output_type": "execute_result",
          "data": {
            "text/plain": [
              "array([1, 4])"
            ]
          },
          "metadata": {
            "tags": []
          },
          "execution_count": 81
        }
      ]
    },
    {
      "cell_type": "markdown",
      "metadata": {
        "id": "kXlTvJq1lRj0",
        "colab_type": "text"
      },
      "source": [
        "**Functions** (element-wise)"
      ]
    },
    {
      "cell_type": "code",
      "metadata": {
        "id": "BjJwl_bklX33",
        "colab_type": "code",
        "colab": {
          "base_uri": "https://localhost:8080/",
          "height": 51
        },
        "outputId": "5f0e59b3-9eb2-4bb6-b6ed-577aa8d6085b"
      },
      "source": [
        "np.exp(M)  # M can be a normal list"
      ],
      "execution_count": 62,
      "outputs": [
        {
          "output_type": "execute_result",
          "data": {
            "text/plain": [
              "array([[ 2.71828183,  7.3890561 ],\n",
              "       [20.08553692, 54.59815003]])"
            ]
          },
          "metadata": {
            "tags": []
          },
          "execution_count": 62
        }
      ]
    },
    {
      "cell_type": "markdown",
      "metadata": {
        "id": "lhaAnzjtlsXB",
        "colab_type": "text"
      },
      "source": [
        "**Matrix Operations**"
      ]
    },
    {
      "cell_type": "code",
      "metadata": {
        "id": "77Qvb9N7lDf1",
        "colab_type": "code",
        "colab": {
          "base_uri": "https://localhost:8080/",
          "height": 51
        },
        "outputId": "23dec91a-cefd-43c1-8626-137dc6d249e8"
      },
      "source": [
        "M.T  # transpose"
      ],
      "execution_count": 61,
      "outputs": [
        {
          "output_type": "execute_result",
          "data": {
            "text/plain": [
              "array([[1, 3],\n",
              "       [2, 4]])"
            ]
          },
          "metadata": {
            "tags": []
          },
          "execution_count": 61
        }
      ]
    },
    {
      "cell_type": "code",
      "metadata": {
        "id": "lWy19I60ltzu",
        "colab_type": "code",
        "colab": {
          "base_uri": "https://localhost:8080/",
          "height": 51
        },
        "outputId": "ada157b1-8da8-49a4-a5b8-462dcea5333a"
      },
      "source": [
        "N = np.array([[1,2,3],[4,5,6]])  # np.diag(N) is [1,5]\n",
        "N"
      ],
      "execution_count": 86,
      "outputs": [
        {
          "output_type": "execute_result",
          "data": {
            "text/plain": [
              "array([[1, 2, 3],\n",
              "       [4, 5, 6]])"
            ]
          },
          "metadata": {
            "tags": []
          },
          "execution_count": 86
        }
      ]
    },
    {
      "cell_type": "code",
      "metadata": {
        "id": "1YxgU4Vdl7v-",
        "colab_type": "code",
        "colab": {
          "base_uri": "https://localhost:8080/",
          "height": 51
        },
        "outputId": "084cdd5e-3bff-43e4-b5cb-04d6d565004e"
      },
      "source": [
        "M.dot(N)"
      ],
      "execution_count": 70,
      "outputs": [
        {
          "output_type": "execute_result",
          "data": {
            "text/plain": [
              "array([[ 9, 12, 15],\n",
              "       [19, 26, 33]])"
            ]
          },
          "metadata": {
            "tags": []
          },
          "execution_count": 70
        }
      ]
    },
    {
      "cell_type": "code",
      "metadata": {
        "id": "Eos2YWXDoAg0",
        "colab_type": "code",
        "colab": {
          "base_uri": "https://localhost:8080/",
          "height": 34
        },
        "outputId": "ee3471b1-e104-4b57-eb6a-5f0f43f86040"
      },
      "source": [
        "np.linalg.det(M)  # not exactly accurate in a computer"
      ],
      "execution_count": 79,
      "outputs": [
        {
          "output_type": "execute_result",
          "data": {
            "text/plain": [
              "-2.0000000000000004"
            ]
          },
          "metadata": {
            "tags": []
          },
          "execution_count": 79
        }
      ]
    },
    {
      "cell_type": "code",
      "metadata": {
        "id": "9WJNr1uQoUw3",
        "colab_type": "code",
        "colab": {
          "base_uri": "https://localhost:8080/",
          "height": 51
        },
        "outputId": "9bbce062-5ce4-402e-ab67-5aff89ba44e8"
      },
      "source": [
        "inv_M = np.linalg.inv(M)  # slower and less accurate than alternatives for solving linear systems\n",
        "inv_M"
      ],
      "execution_count": 110,
      "outputs": [
        {
          "output_type": "execute_result",
          "data": {
            "text/plain": [
              "array([[-2. ,  1. ],\n",
              "       [ 1.5, -0.5]])"
            ]
          },
          "metadata": {
            "tags": []
          },
          "execution_count": 110
        }
      ]
    },
    {
      "cell_type": "code",
      "metadata": {
        "id": "lLLnGUNboaaN",
        "colab_type": "code",
        "colab": {
          "base_uri": "https://localhost:8080/",
          "height": 51
        },
        "outputId": "2132339d-cbba-4062-eca9-b21c9b6962de"
      },
      "source": [
        "inv_M.dot(M)  # inaccurate operation in a computer"
      ],
      "execution_count": 78,
      "outputs": [
        {
          "output_type": "execute_result",
          "data": {
            "text/plain": [
              "array([[1.00000000e+00, 0.00000000e+00],\n",
              "       [1.11022302e-16, 1.00000000e+00]])"
            ]
          },
          "metadata": {
            "tags": []
          },
          "execution_count": 78
        }
      ]
    },
    {
      "cell_type": "code",
      "metadata": {
        "id": "u-5A_86JpI6R",
        "colab_type": "code",
        "colab": {
          "base_uri": "https://localhost:8080/",
          "height": 34
        },
        "outputId": "6be2f174-b5e1-466b-c9db-cf7597c12de2"
      },
      "source": [
        "np.trace(M)"
      ],
      "execution_count": 80,
      "outputs": [
        {
          "output_type": "execute_result",
          "data": {
            "text/plain": [
              "5"
            ]
          },
          "metadata": {
            "tags": []
          },
          "execution_count": 80
        }
      ]
    },
    {
      "cell_type": "code",
      "metadata": {
        "id": "PS2l3FDbqQGO",
        "colab_type": "code",
        "colab": {}
      },
      "source": [
        "lam, V = np.linalg.eig(M)  # Eigenvalues and Eigenvectors  # Eigenvectors are stored as column vectors inside V"
      ],
      "execution_count": 0,
      "outputs": []
    },
    {
      "cell_type": "code",
      "metadata": {
        "id": "KPLPRDc7rZ7w",
        "colab_type": "code",
        "colab": {
          "base_uri": "https://localhost:8080/",
          "height": 34
        },
        "outputId": "98acee94-fbbd-4aed-d721-74ba60510705"
      },
      "source": [
        "V[:,0] * lam[0] == M @ V[:,0]  # eigenvalue * eigenvector == A * eigenvector  # incorrect due to numerical precision errors\n",
        "V[:,0] * lam[0], M @ V[:,0]  # (array([ 0.30697009, -0.21062466]), array([ 0.30697009, -0.21062466]))\n",
        "np.allclose(V[:,0] * lam[0], M @ V[:,0])\n",
        "np.allclose(V @ np.diag(lam), M @ V)  # checking all eigenvectors simultaneously\n",
        "# if matrix is symmetric (eg.covariance) (or complex Hermitian), use np.linalg.eigh \n",
        "# (Hermitian: complex analog of matrix transpose: it does a transpose and takes the complex conjugates of the elements"
      ],
      "execution_count": 109,
      "outputs": [
        {
          "output_type": "execute_result",
          "data": {
            "text/plain": [
              "True"
            ]
          },
          "metadata": {
            "tags": []
          },
          "execution_count": 109
        }
      ]
    },
    {
      "cell_type": "markdown",
      "metadata": {
        "id": "FYbxxmDaxyeh",
        "colab_type": "text"
      },
      "source": [
        "**Solving Linear Systems**"
      ]
    },
    {
      "cell_type": "code",
      "metadata": {
        "id": "W21-uafRx1wg",
        "colab_type": "code",
        "colab": {
          "base_uri": "https://localhost:8080/",
          "height": 34
        },
        "outputId": "2efcf892-33aa-491f-eaff-cc353ed325ad"
      },
      "source": [
        "A = np.array([[1, 1], [1.5, 4]])\n",
        "b = np.array([2200, 5050])\n",
        "x = np.linalg.solve(A, b)  # don't use: x = np.linalg.inv(A).dot(b) for A-1*b\n",
        "x"
      ],
      "execution_count": 116,
      "outputs": [
        {
          "output_type": "execute_result",
          "data": {
            "text/plain": [
              "array([1500.,  700.])"
            ]
          },
          "metadata": {
            "tags": []
          },
          "execution_count": 116
        }
      ]
    },
    {
      "cell_type": "markdown",
      "metadata": {
        "id": "bFJFH6v5zdCX",
        "colab_type": "text"
      },
      "source": [
        "**Generating Data**"
      ]
    },
    {
      "cell_type": "code",
      "metadata": {
        "id": "cYZWdQkMpd8Y",
        "colab_type": "code",
        "colab": {
          "base_uri": "https://localhost:8080/",
          "height": 187
        },
        "outputId": "666ec0f1-3d7e-4b3a-f6f6-9f8c9b59c627"
      },
      "source": [
        "np.linspace(0, 20, 50)  # 1D array with 1000 evenly-spaced points between 0 and 20  # eg. for x axis"
      ],
      "execution_count": 4,
      "outputs": [
        {
          "output_type": "execute_result",
          "data": {
            "text/plain": [
              "array([ 0.        ,  0.40816327,  0.81632653,  1.2244898 ,  1.63265306,\n",
              "        2.04081633,  2.44897959,  2.85714286,  3.26530612,  3.67346939,\n",
              "        4.08163265,  4.48979592,  4.89795918,  5.30612245,  5.71428571,\n",
              "        6.12244898,  6.53061224,  6.93877551,  7.34693878,  7.75510204,\n",
              "        8.16326531,  8.57142857,  8.97959184,  9.3877551 ,  9.79591837,\n",
              "       10.20408163, 10.6122449 , 11.02040816, 11.42857143, 11.83673469,\n",
              "       12.24489796, 12.65306122, 13.06122449, 13.46938776, 13.87755102,\n",
              "       14.28571429, 14.69387755, 15.10204082, 15.51020408, 15.91836735,\n",
              "       16.32653061, 16.73469388, 17.14285714, 17.55102041, 17.95918367,\n",
              "       18.36734694, 18.7755102 , 19.18367347, 19.59183673, 20.        ])"
            ]
          },
          "metadata": {
            "tags": []
          },
          "execution_count": 4
        }
      ]
    },
    {
      "cell_type": "code",
      "metadata": {
        "id": "G8uyfdlEzhlB",
        "colab_type": "code",
        "colab": {
          "base_uri": "https://localhost:8080/",
          "height": 51
        },
        "outputId": "eaa1c9b6-11cc-422f-969e-ca3bd6690851"
      },
      "source": [
        "np.zeros((2,3))"
      ],
      "execution_count": 121,
      "outputs": [
        {
          "output_type": "execute_result",
          "data": {
            "text/plain": [
              "array([[0., 0., 0.],\n",
              "       [0., 0., 0.]])"
            ]
          },
          "metadata": {
            "tags": []
          },
          "execution_count": 121
        }
      ]
    },
    {
      "cell_type": "code",
      "metadata": {
        "id": "JgTrg-sCzyJ8",
        "colab_type": "code",
        "colab": {
          "base_uri": "https://localhost:8080/",
          "height": 51
        },
        "outputId": "25c6e0c4-849b-4c6f-9d57-9a9ce0d31711"
      },
      "source": [
        "np.ones((2,3))"
      ],
      "execution_count": 122,
      "outputs": [
        {
          "output_type": "execute_result",
          "data": {
            "text/plain": [
              "array([[1., 1., 1.],\n",
              "       [1., 1., 1.]])"
            ]
          },
          "metadata": {
            "tags": []
          },
          "execution_count": 122
        }
      ]
    },
    {
      "cell_type": "code",
      "metadata": {
        "id": "TQLc5Fdoz52i",
        "colab_type": "code",
        "colab": {
          "base_uri": "https://localhost:8080/",
          "height": 51
        },
        "outputId": "9bb29f3a-2357-4fe4-a9cb-2cc217e0625b"
      },
      "source": [
        "10 * np.ones((2, 3))"
      ],
      "execution_count": 123,
      "outputs": [
        {
          "output_type": "execute_result",
          "data": {
            "text/plain": [
              "array([[10., 10., 10.],\n",
              "       [10., 10., 10.]])"
            ]
          },
          "metadata": {
            "tags": []
          },
          "execution_count": 123
        }
      ]
    },
    {
      "cell_type": "code",
      "metadata": {
        "id": "DNzf8mSW0Fat",
        "colab_type": "code",
        "colab": {
          "base_uri": "https://localhost:8080/",
          "height": 68
        },
        "outputId": "bbf83fea-2b41-4994-cf44-c48ba4ffd9b8"
      },
      "source": [
        "np.eye(3)"
      ],
      "execution_count": 124,
      "outputs": [
        {
          "output_type": "execute_result",
          "data": {
            "text/plain": [
              "array([[1., 0., 0.],\n",
              "       [0., 1., 0.],\n",
              "       [0., 0., 1.]])"
            ]
          },
          "metadata": {
            "tags": []
          },
          "execution_count": 124
        }
      ]
    },
    {
      "cell_type": "code",
      "metadata": {
        "id": "82RLXZ2w0HHZ",
        "colab_type": "code",
        "colab": {
          "base_uri": "https://localhost:8080/",
          "height": 34
        },
        "outputId": "67eea8e0-2dce-47bf-fedb-348d810f217b"
      },
      "source": [
        "np.random.random()  # always positive  # from uniform 0-1 distribution"
      ],
      "execution_count": 148,
      "outputs": [
        {
          "output_type": "execute_result",
          "data": {
            "text/plain": [
              "0.6968309256853044"
            ]
          },
          "metadata": {
            "tags": []
          },
          "execution_count": 148
        }
      ]
    },
    {
      "cell_type": "code",
      "metadata": {
        "id": "hOzowdxa1N6K",
        "colab_type": "code",
        "colab": {
          "base_uri": "https://localhost:8080/",
          "height": 51
        },
        "outputId": "239c84a7-c1c0-4d59-d730-11f0236dfce4"
      },
      "source": [
        "np.random.randn()  # standard normal/Gaussian distribution (mean: 0, variance: 1)\n",
        "np.random.randn(2,3)  # 2x3 matrix containing random numbers (between -1 and 1)"
      ],
      "execution_count": 153,
      "outputs": [
        {
          "output_type": "execute_result",
          "data": {
            "text/plain": [
              "array([[ 0.00436367,  1.52521762, -0.2501105 ],\n",
              "       [-0.03900539, -1.81912731,  1.25784415]])"
            ]
          },
          "metadata": {
            "tags": []
          },
          "execution_count": 153
        }
      ]
    },
    {
      "cell_type": "code",
      "metadata": {
        "id": "oAZURH760zAC",
        "colab_type": "code",
        "colab": {
          "base_uri": "https://localhost:8080/",
          "height": 51
        },
        "outputId": "d4e7fba9-b627-421d-d772-069ca769cb94"
      },
      "source": [
        "np.random.random((2,3))  # 2x3 matrix containing random positive numbers  # draws from uniform 0-1 distribution"
      ],
      "execution_count": 149,
      "outputs": [
        {
          "output_type": "execute_result",
          "data": {
            "text/plain": [
              "array([[0.01289143, 0.60652645, 0.27478846],\n",
              "       [0.6681979 , 0.9767852 , 0.9352879 ]])"
            ]
          },
          "metadata": {
            "tags": []
          },
          "execution_count": 149
        }
      ]
    },
    {
      "cell_type": "code",
      "metadata": {
        "id": "rjBwEP9m2q6x",
        "colab_type": "code",
        "colab": {
          "base_uri": "https://localhost:8080/",
          "height": 51
        },
        "outputId": "e86bccea-d582-4000-d667-a74ebea9449f"
      },
      "source": [
        "r = np.random.randn(10000)\n",
        "r"
      ],
      "execution_count": 155,
      "outputs": [
        {
          "output_type": "execute_result",
          "data": {
            "text/plain": [
              "array([ 1.35097834,  2.45191723,  0.44876413, ..., -0.46690469,\n",
              "       -0.00431452, -0.31205972])"
            ]
          },
          "metadata": {
            "tags": []
          },
          "execution_count": 155
        }
      ]
    },
    {
      "cell_type": "markdown",
      "metadata": {
        "id": "fpQACnhA2wAR",
        "colab_type": "text"
      },
      "source": [
        "**Statistics**"
      ]
    },
    {
      "cell_type": "code",
      "metadata": {
        "id": "FntKbN_R2vNS",
        "colab_type": "code",
        "colab": {
          "base_uri": "https://localhost:8080/",
          "height": 34
        },
        "outputId": "153738ba-8627-44a1-e2b7-e97f2536469b"
      },
      "source": [
        "r.mean()  # close to 0 as expected  # instance method == top level function: np.mean(r)\n"
      ],
      "execution_count": 158,
      "outputs": [
        {
          "output_type": "execute_result",
          "data": {
            "text/plain": [
              "-0.0072003573945527335"
            ]
          },
          "metadata": {
            "tags": []
          },
          "execution_count": 158
        }
      ]
    },
    {
      "cell_type": "code",
      "metadata": {
        "id": "bXr03pUF3RtO",
        "colab_type": "code",
        "colab": {
          "base_uri": "https://localhost:8080/",
          "height": 34
        },
        "outputId": "19ae508b-337d-4664-d39a-17cb69bd0d74"
      },
      "source": [
        "r.var()  # close to 1 as expected"
      ],
      "execution_count": 160,
      "outputs": [
        {
          "output_type": "execute_result",
          "data": {
            "text/plain": [
              "1.0133484411347566"
            ]
          },
          "metadata": {
            "tags": []
          },
          "execution_count": 160
        }
      ]
    },
    {
      "cell_type": "code",
      "metadata": {
        "id": "C1PJObRm3VS3",
        "colab_type": "code",
        "colab": {
          "base_uri": "https://localhost:8080/",
          "height": 34
        },
        "outputId": "de8c2a87-0d33-4a0d-d1a8-d91736ed2946"
      },
      "source": [
        "r.std()  # square root of variance  # np.sqrt(r.var())"
      ],
      "execution_count": 163,
      "outputs": [
        {
          "output_type": "execute_result",
          "data": {
            "text/plain": [
              "1.0066520953809"
            ]
          },
          "metadata": {
            "tags": []
          },
          "execution_count": 163
        }
      ]
    },
    {
      "cell_type": "code",
      "metadata": {
        "id": "yx8aA-Ge3pzy",
        "colab_type": "code",
        "colab": {
          "base_uri": "https://localhost:8080/",
          "height": 136
        },
        "outputId": "434e0510-265c-4d16-9cc0-e1a4c562c8fe"
      },
      "source": [
        "M = np.random.randn(10000, 3)\n",
        "M"
      ],
      "execution_count": 165,
      "outputs": [
        {
          "output_type": "execute_result",
          "data": {
            "text/plain": [
              "array([[ 0.41803257,  0.5080218 , -0.23891995],\n",
              "       [ 0.59351521, -1.16365795,  1.03650054],\n",
              "       [ 0.49109263,  0.90540846, -0.46352583],\n",
              "       ...,\n",
              "       [-0.12455966,  0.19443439,  0.74630738],\n",
              "       [-1.15966418,  0.03576764, -0.27105537],\n",
              "       [ 0.77792551, -0.96063799, -0.87088753]])"
            ]
          },
          "metadata": {
            "tags": []
          },
          "execution_count": 165
        }
      ]
    },
    {
      "cell_type": "code",
      "metadata": {
        "id": "IeLSOfNb305O",
        "colab_type": "code",
        "colab": {
          "base_uri": "https://localhost:8080/",
          "height": 34
        },
        "outputId": "17e65cc5-d991-4004-913d-4284cd3401af"
      },
      "source": [
        "# M.mean()  # mean of entire matrix (uncommon operation)\n",
        "M.mean(axis=0)  # mean of each column, so output is a length 3 array"
      ],
      "execution_count": 167,
      "outputs": [
        {
          "output_type": "execute_result",
          "data": {
            "text/plain": [
              "array([0.00951076, 0.00953755, 0.00023548])"
            ]
          },
          "metadata": {
            "tags": []
          },
          "execution_count": 167
        }
      ]
    },
    {
      "cell_type": "code",
      "metadata": {
        "id": "eho6HWq-4HNY",
        "colab_type": "code",
        "colab": {}
      },
      "source": [
        "row_means = M.mean(axis=1)  # mean of each row  # row_means.shape  # (10000,)"
      ],
      "execution_count": 0,
      "outputs": []
    },
    {
      "cell_type": "code",
      "metadata": {
        "id": "TPmqBIUd4jSW",
        "colab_type": "code",
        "colab": {
          "base_uri": "https://localhost:8080/",
          "height": 238
        },
        "outputId": "0880d5eb-c796-4365-e717-59a437b194ce"
      },
      "source": [
        "np.cov(M)  # covariance (variance for vectors)  # shape: (10000, 10000)  # cov treats cols as vector observations, unlike other libraries in the ML stack, eg. scikit-learn, tf or pytorch, which takes rows as sample observations"
      ],
      "execution_count": 171,
      "outputs": [
        {
          "output_type": "execute_result",
          "data": {
            "text/plain": [
              "array([[ 0.16626777, -0.3487562 ,  0.28115619, ..., -0.15927154,\n",
              "        -0.04116981,  0.14328359],\n",
              "       [-0.3487562 ,  1.35409848, -0.69379651, ...,  0.17324359,\n",
              "        -0.39699988,  0.42033706],\n",
              "       [ 0.28115619, -0.69379651,  0.49282252, ..., -0.24244322,\n",
              "         0.01117075,  0.12180175],\n",
              "       ...,\n",
              "       [-0.15927154,  0.17324359, -0.24244322, ...,  0.19412173,\n",
              "         0.1643114 , -0.32349292],\n",
              "       [-0.04116981, -0.39699988,  0.01117075, ...,  0.1643114 ,\n",
              "         0.38547053, -0.59517024],\n",
              "       [ 0.14328359,  0.42033706,  0.12180175, ..., -0.32349292,\n",
              "        -0.59517024,  0.95820711]])"
            ]
          },
          "metadata": {
            "tags": []
          },
          "execution_count": 171
        }
      ]
    },
    {
      "cell_type": "code",
      "metadata": {
        "id": "L7qxKich5MtB",
        "colab_type": "code",
        "colab": {
          "base_uri": "https://localhost:8080/",
          "height": 68
        },
        "outputId": "37692a97-c31c-4139-8982-7d2346f9e2b8"
      },
      "source": [
        "np.cov(M, rowvar=False)  # np.cov(M.T)  # shape: (3,3)  # close to the identity matrix, as expected"
      ],
      "execution_count": 175,
      "outputs": [
        {
          "output_type": "execute_result",
          "data": {
            "text/plain": [
              "array([[ 1.00297159, -0.00482338, -0.00894683],\n",
              "       [-0.00482338,  1.00958087, -0.00628021],\n",
              "       [-0.00894683, -0.00628021,  1.00935383]])"
            ]
          },
          "metadata": {
            "tags": []
          },
          "execution_count": 175
        }
      ]
    },
    {
      "cell_type": "code",
      "metadata": {
        "id": "t5Mg-bYi6T_m",
        "colab_type": "code",
        "colab": {
          "base_uri": "https://localhost:8080/",
          "height": 68
        },
        "outputId": "f505b688-44db-44ad-cd73-c5012cdff1d3"
      },
      "source": [
        "np.random.randint(0, 10, (3,3))  # size=(3,3))  # not including 10"
      ],
      "execution_count": 178,
      "outputs": [
        {
          "output_type": "execute_result",
          "data": {
            "text/plain": [
              "array([[2, 0, 4],\n",
              "       [5, 9, 9],\n",
              "       [0, 4, 3]])"
            ]
          },
          "metadata": {
            "tags": []
          },
          "execution_count": 178
        }
      ]
    },
    {
      "cell_type": "code",
      "metadata": {
        "id": "RMxXwG1t6jTC",
        "colab_type": "code",
        "colab": {
          "base_uri": "https://localhost:8080/",
          "height": 68
        },
        "outputId": "d74ced58-8bf7-456c-fcff-9f7a65d7e5e7"
      },
      "source": [
        "np.random.choice(10, (3,3))  # randomly selects items from a 1D input array  # also accepts arrays, replace (default: True) and allows for choosing distribution (default: uniform) "
      ],
      "execution_count": 180,
      "outputs": [
        {
          "output_type": "execute_result",
          "data": {
            "text/plain": [
              "array([[2, 7, 5],\n",
              "       [6, 3, 6],\n",
              "       [4, 2, 3]])"
            ]
          },
          "metadata": {
            "tags": []
          },
          "execution_count": 180
        }
      ]
    }
  ]
}